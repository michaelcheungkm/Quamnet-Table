{
 "cells": [
  {
   "cell_type": "markdown",
   "metadata": {},
   "source": [
    "## Quamnet Tables Download"
   ]
  },
  {
   "cell_type": "code",
   "execution_count": 20,
   "metadata": {},
   "outputs": [],
   "source": [
    "from selenium import webdriver\n",
    "import pandas as pd\n",
    "import time\n",
    "import numpy as np\n",
    "from IPython.core.display import HTML\n",
    "import requests\n",
    "import pickle\n",
    "from collections import defaultdict\n",
    "import matplotlib.pyplot as plt\n",
    "from math import pi"
   ]
  },
  {
   "cell_type": "code",
   "execution_count": 2,
   "metadata": {},
   "outputs": [],
   "source": [
    "# get the path of ChromeDriverServer \n",
    "chrome_driver_path = \"C:\\Program Files\\R\\chromedriver.exe\""
   ]
  },
  {
   "cell_type": "code",
   "execution_count": 3,
   "metadata": {},
   "outputs": [],
   "source": [
    "browser = webdriver.Chrome(chrome_driver_path)"
   ]
  },
  {
   "cell_type": "code",
   "execution_count": 4,
   "metadata": {},
   "outputs": [
    {
     "data": {
      "text/plain": [
       "['00001&amp;wtype=warrant\">00001</a></td>\\t\\n\\t<td class=\"text\">CKH HOLDINGS</td>\\n\\t<td class=\"text h-align-right\">72.050</td>\\t\\n\\t<td class=\"text h-align-right\">133,015</td>\\n\\t<td class=\"text h-align-right\">\\n\\t\\t&nbsp; \\n\\t</td>\\n\\t<td class=\"text\">\\n\\t\\t<img src=\"/home/img/barchart_l_b.gif\" width=\"3\" height=\"15\" />0.209%\\n\\t</td>\\n</tr>\\n<tr>\\n\\t<td class=\"even\">',\n",
       " '00002&amp;wtype=warrant\">00002</a></td>\\t\\n\\t<td class=\"even\">CLP HOLDINGS</td>\\n\\t<td class=\"even h-align-right\">82.300</td>\\t\\n\\t<td class=\"even h-align-right\">123,479</td>\\n\\t<td class=\"even h-align-right\">\\n\\t\\t&nbsp; \\n\\t</td>\\n\\t<td class=\"even\">\\n\\t\\t<img src=\"/home/img/barchart_l_b.gif\" width=\"11\" height=\"15\" />0.673%\\n\\t</td>\\n</tr>\\n<tr>\\n\\t<td class=\"text\">']"
      ]
     },
     "execution_count": 4,
     "metadata": {},
     "output_type": "execute_result"
    }
   ],
   "source": [
    "#to obtain a list of HSI stock codes\n",
    "HSI_page = requests.get('https://warrants-hk.credit-suisse.com/en/underlying/hsi_e.cgi')\n",
    "HSI_content = HSI_page.text\n",
    "HSI_content = HSI_content.split('<a href=\"/en/underlying/underlying_info_e.cgi?code=')\n",
    "HSI_content = HSI_content[1:]\n",
    "HSI_content[:2]"
   ]
  },
  {
   "cell_type": "code",
   "execution_count": 5,
   "metadata": {},
   "outputs": [
    {
     "data": {
      "text/plain": [
       "['0001', '0002', '0003', '0005', '0006']"
      ]
     },
     "execution_count": 5,
     "metadata": {},
     "output_type": "execute_result"
    }
   ],
   "source": [
    "#HSI_code contains the stock codes\n",
    "HSI_content = [x.split('>') for x in HSI_content]\n",
    "HSI_code = [x[1] for x in HSI_content]\n",
    "HSI_Cname = [x[4] for x in HSI_content]\n",
    "HSI_code = [x.split('<') for x in HSI_code]\n",
    "HSI_code = [str(x[0][1:]) for x in HSI_code]\n",
    "HSI_code[:5]"
   ]
  },
  {
   "cell_type": "code",
   "execution_count": 6,
   "metadata": {},
   "outputs": [
    {
     "data": {
      "text/plain": [
       "['CKH HOLDINGS',\n",
       " 'CLP HOLDINGS',\n",
       " 'HK & CHINA GAS',\n",
       " 'HSBC HOLDINGS',\n",
       " 'POWER ASSETS']"
      ]
     },
     "execution_count": 6,
     "metadata": {},
     "output_type": "execute_result"
    }
   ],
   "source": [
    "#HSI_Cname contains the company names\n",
    "HSI_Cname = [x.split('<') for x in HSI_Cname]\n",
    "HSI_Cname = [str(x[0]) for x in HSI_Cname]\n",
    "HSI_Cname[:5]"
   ]
  },
  {
   "cell_type": "code",
   "execution_count": 9,
   "metadata": {},
   "outputs": [],
   "source": [
    "# a function to give a dictionary of a table\n",
    "def re_define(x,names,cname,code):\n",
    "    y = defaultdict(dict)\n",
    "    y[names[0]] = {\"value\": float(x[0][:-1].replace(',','')), \"unit\":x[0][-1]}\n",
    "    x[1] = x[1].split(\"/\")\n",
    "    y[names[1]] = {\"high\": float(x[1][0]), \"low\": float(x[1][1])}\n",
    "    y[names[2]] = {\"value\":float(x[2].replace(',',''))}\n",
    "    x[3] = x[3].split(\"/\")\n",
    "    y[names[3]] = {\"high\": float(x[3][0]), \"low\": float(x[3][1])}\n",
    "    x[4] = x[4].split(\"/\")\n",
    "    y[names[4]] = {\"bid\": float(x[4][0]), \"ask\": float(x[4][1])}\n",
    "    y[names[5]] = {\"value\": float(x[5][:-1]), \"unit\":x[5][-1]}\n",
    "    try:\n",
    "        y[names[6]] = {\"value\":float(x[6])}\n",
    "    except:\n",
    "        y[names[6]] = {'value': 0}\n",
    "    y[names[7]] = {\"value\": float(x[7][:-1]), \"unit\":x[7][-1]}\n",
    "    y[names[8]] = {\"value\":float(x[8])}\n",
    "    y[names[9].split('\\xa0')[0]] = {\"value\":float(x[9])}\n",
    "    y[names[10]] = {\"value\":float(x[10][:-1])/float(100)}\n",
    "    y[names[11].split('\\xa0')[0]] = {\"value\":float(x[11][:-1])/float(100)}\n",
    "    y[names[12]] = {\"value\":float(x[12])}\n",
    "    try:\n",
    "        y[names[13]] = {\"value\":float(x[13][:-1])/float(100)}\n",
    "    except:\n",
    "        y[names[13]] = {\"value\": 'undefined'}\n",
    "    y[names[14]] = {\"value\":float(x[14])}\n",
    "    y[names[15]] = {\"value\":float(x[15][:-1])/float(100)}\n",
    "    y[names[16]] = {\"value\": float(x[16][:-1]), \"unit\":x[16][-1]}\n",
    "    y[names[17]] = {\"value\":float(x[17][:-1])/float(100)}\n",
    "    y[\"Company\"] = {\"code\":code,\"name\": cname}\n",
    "    return y"
   ]
  },
  {
   "cell_type": "code",
   "execution_count": 10,
   "metadata": {},
   "outputs": [
    {
     "data": {
      "text/plain": [
       "defaultdict(dict,\n",
       "            {'市值': {'value': 106.49, 'unit': 'B'},\n",
       "             '1個月波幅': {'high': 59.0, 'low': 51.1},\n",
       "             '每手股數': {'value': 500.0},\n",
       "             '3個月波幅': {'high': 59.0, 'low': 50.65},\n",
       "             '買價差價': {'bid': 0.05, 'ask': 0.05},\n",
       "             '五天平均成交額': {'value': 117.3, 'unit': 'M'},\n",
       "             '市盈率': {'value': 25.83},\n",
       "             '交易宗數': {'value': 83.0, 'unit': '1'},\n",
       "             '市賬率': {'value': 4.66},\n",
       "             'Beta': {'value': 2.0},\n",
       "             '週息率': {'value': 0.016},\n",
       "             '波幅': {'value': 0.4156},\n",
       "             '每股盈利': {'value': 2.362},\n",
       "             '年初至今表現': {'value': 0.48},\n",
       "             '每股淨值': {'value': 13.097},\n",
       "             '恒指年初至今表現': {'value': 0.07},\n",
       "             '資金活躍度': {'value': 255.1, 'unit': 'K'},\n",
       "             '國指年初至今表現': {'value': 0.07},\n",
       "             'Company': {'code': '0669', 'name': 'TECHTRONIC IND'}})"
      ]
     },
     "execution_count": 10,
     "metadata": {},
     "output_type": "execute_result"
    }
   ],
   "source": [
    "#The codes to extract the table for each HSI stock\n",
    "table = defaultdict(dict)\n",
    "for i in range(len(HSI_code)):\n",
    "    browser.get('http://www.quamnet.com/Quote.action?stockCode='+HSI_code[i])\n",
    "    ps = browser.page_source\n",
    "    content = ps.split(\"quote_purple_border\")\n",
    "    table_content = content[2]\n",
    "    table_content = table_content.split('class=\"qtxt_s_blue_b\">')\n",
    "    table_content = [table_content[x].split(\"</span></td>\") for x in range(len(table_content))]\n",
    "    table_content2 = [table_content[x][y].split('<span class=\"qtxt_s_blue\">') for x in range(len(table_content)) for y in range(len(table_content[x]))]\n",
    "    try:\n",
    "        names = [table_content2[x] for x in range(0,29,3)] + [table_content2[x] for x in range(29,33,3)] + [table_content2[x] for x in range(34,len(table_content2)-1,3)]\n",
    "    except:\n",
    "        continue\n",
    "    names = [x[1].split('&nbsp') for x in names]\n",
    "    names = [x[0] for x in names]\n",
    "    number_content = [table_content2[x] for x in range(2,27,3)] + [table_content2[x] for x in range(28,32,3)] + [table_content2[x] for x in range(33,len(table_content2)-1,3)]\n",
    "    number_content = [x[0].replace('\\n\\t\\t','') for x in number_content]\n",
    "    table[HSI_code[i]] = re_define(number_content,names,HSI_Cname[i],HSI_code[i])\n",
    "    time.sleep(5)\n",
    "\n",
    "table[HSI_code[20]]"
   ]
  },
  {
   "cell_type": "code",
   "execution_count": 13,
   "metadata": {},
   "outputs": [],
   "source": [
    "#function to re-scale the data\n",
    "def transf(x):\n",
    "    r = max(x) - min(x)\n",
    "    return [(t-min(x))/r for t in x]"
   ]
  },
  {
   "cell_type": "code",
   "execution_count": 14,
   "metadata": {},
   "outputs": [],
   "source": [
    "#variables to display in the radar chart\n",
    "ec = ['transaction','PE','PB','Beta','Volatility']"
   ]
  },
  {
   "cell_type": "code",
   "execution_count": 15,
   "metadata": {},
   "outputs": [],
   "source": [
    "#function to plot the radar chart\n",
    "def radar(val,ec,code):\n",
    "    N = len(ec)\n",
    "    values = val\n",
    "    values += values[:1]\n",
    "    angles = [n / float(N) * 2 * pi for n in range(N)]\n",
    "    angles += angles[:1]\n",
    "    ax = plt.subplot(111, polar=True)\n",
    " \n",
    "    plt.xticks(angles[:-1], ec, color='grey', size=8)\n",
    " \n",
    "    ax.set_rlabel_position(0)\n",
    "    plt.yticks([0.01,0.02,0.05,0.08,0.12,0.2,0.25,0.35,0.5,0.7,0.9], [\"0.01\",\"0.02\",\"0.05\",\"0.08\",\"0.12\",\"0.2\",\"0.25\",\"0.35\",\"0.5\",\"0.7\",\"0.9\"], color=\"grey\", size=7)\n",
    "    plt.ylim(0,1)\n",
    " \n",
    "    ax.plot(angles, values, linewidth=1, linestyle='solid')\n",
    "    ax.fill(angles, values, 'b', alpha=0.1)\n",
    "    plt.title(code)"
   ]
  },
  {
   "cell_type": "code",
   "execution_count": 16,
   "metadata": {},
   "outputs": [
    {
     "data": {
      "text/plain": [
       "['0001',\n",
       " '0002',\n",
       " '0003',\n",
       " '0005',\n",
       " '0006',\n",
       " '0011',\n",
       " '0012',\n",
       " '0016',\n",
       " '0017',\n",
       " '0019']"
      ]
     },
     "execution_count": 16,
     "metadata": {},
     "output_type": "execute_result"
    }
   ],
   "source": [
    "list(table)[:10]"
   ]
  },
  {
   "cell_type": "code",
   "execution_count": 17,
   "metadata": {},
   "outputs": [],
   "source": [
    "#rescale the data\n",
    "transaction = [table[x]['五天平均成交額']['value'] for x in list(table) if len(table[x]) > 0]\n",
    "transaction = transf(transaction)\n",
    "PE = [table[x]['市盈率']['value'] for x in list(table) if len(table[x]) > 0]\n",
    "PE = transf(PE)\n",
    "PB = [table[x]['市賬率']['value'] for x in list(table) if len(table[x]) > 0]\n",
    "PB = transf(PB)\n",
    "DR = [table[x]['Beta']['value'] for x in list(table) if len(table[x]) > 0]\n",
    "DR = transf(DR)\n",
    "V = [table[x]['波幅']['value'] for x in list(table) if len(table[x]) > 0]\n",
    "V = transf(V)"
   ]
  },
  {
   "cell_type": "code",
   "execution_count": 18,
   "metadata": {},
   "outputs": [],
   "source": [
    "def draw_radar(k):\n",
    "    values = [transaction[k], PE[k], PB[k], DR[k], V[k]]    \n",
    "    radar(values,ec,HSI_code[k])"
   ]
  },
  {
   "cell_type": "code",
   "execution_count": 21,
   "metadata": {},
   "outputs": [
    {
     "data": {
      "image/png": "[encoded data removed]",
      "text/plain": [
       "<Figure size 432x288 with 1 Axes>"
      ]
     },
     "metadata": {
      "needs_background": "dark"
     },
     "output_type": "display_data"
    }
   ],
   "source": [
    "draw_radar(26)"
   ]
  },
  {
   "cell_type": "code",
   "execution_count": null,
   "metadata": {},
   "outputs": [],
   "source": []
  }
 ],
 "metadata": {
  "kernelspec": {
   "display_name": "Python 3",
   "language": "python",
   "name": "python3"
  },
  "language_info": {
   "codemirror_mode": {
    "name": "ipython",
    "version": 3
   },
   "file_extension": ".py",
   "mimetype": "text/x-python",
   "name": "python",
   "nbconvert_exporter": "python",
   "pygments_lexer": "ipython3",
   "version": "3.7.1"
  }
 },
 "nbformat": 4,
 "nbformat_minor": 2
}
